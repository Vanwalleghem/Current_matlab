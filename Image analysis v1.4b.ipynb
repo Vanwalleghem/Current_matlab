{
 "cells": [
  {
   "cell_type": "code",
   "execution_count": 3,
   "metadata": {
    "collapsed": false
   },
   "outputs": [],
   "source": [
    "%matplotlib inline\n",
    "from skimage import feature\n",
    "from math import sqrt\n",
    "from skimage.morphology import disk, opening\n",
    "import seaborn as sns\n",
    "import matplotlib.pyplot as plt\n",
    "from matplotlib.pyplot import figure, show, axes, sci\n",
    "from matplotlib import colors\n",
    "from thunder import NMF, PCA, RegressionModel, Colorize\n",
    "import numpy as np\n",
    "from numpy import genfromtxt\n",
    "from pyfnnd import apply_all_cells\n",
    "import scipy.io\n",
    "from scipy.stats import pearsonr\n",
    "import math\n",
    "import itertools\n",
    "import glob, os\n",
    "image = Colorize.image\n",
    "from scipy import signal\n",
    "from subprocess import Popen, PIPE\n",
    "import PIL\n",
    "window = signal.gaussian(5, std=1)\n",
    "sns.set_context('notebook')\n",
    "sns.set_style('ticks')\n",
    "plt.ioff()\n",
    "\n",
    "\n",
    "def Spikeinference(img,Mask):\n",
    "    global MeanFluo_ROI_thund\n",
    "    MeanFluo_ROI_thund=img.meanByRegions(Mask).toSeries()\n",
    "    MeanFluo_ROI=img.meanByRegions(Mask).collectAsArray()\n",
    "    n_hat, C_hat, LL, theta_hat=apply_all_cells(np.transpose(MeanFluo_ROI[1][:,0]),disp=0, n_jobs=-1)\n",
    "    scipy.io.savemat('/mnt/downloads/'+savedirectory+'/'+filename+'-ROI_SpikePred.mat', mdict={'n_hat':n_hat,'C_hat':C_hat,'LL':LL,'theta_hat':theta_hat}, oned_as='column', do_compression='true')\n",
    "    np.savetxt('/mnt/downloads/'+savedirectory+'/'+filename+'-segmentation-ROI_Raw.csv',MeanFluo_ROI[1][:,0])\n",
    "    return n_hat, C_hat, LL, theta_hat\n",
    "\n",
    "def NMFCorr(stimparam,NMFH,data_to_analyze,p_value=0.05):\n",
    "    results=[]\n",
    "    lst = np.asarray(list(itertools.product([0, 1], repeat=stimparam.shape[0])))\n",
    "    corrMat=np.zeros((Mask.shape[0],Mask.shape[1]),dtype=np.float32)\n",
    "    for k in range(0,NMFH.shape[0]):\n",
    "        result=[]\n",
    "        ccr=[]\n",
    "        pvalues=[]\n",
    "        for j in range(1,lst.shape[0]):\n",
    "            combination=np.zeros((1,NMFH.shape[1]),dtype=np.int16);\n",
    "            for i in np.transpose(np.nonzero(lst[j])[0]):\n",
    "                combination+=stimparam[i]\n",
    "            cc,pval=pearsonr(NMFH[k,:],combination[0])\n",
    "            ccr.append(cc)\n",
    "            pvalues.append(pval)\n",
    "        result.append(ccr[np.argmin(pvalues)])\n",
    "        result.append(pvalues[np.argmin(pvalues)])\n",
    "        result.append(lst[np.argmin(pvalues)])\n",
    "        results.append(result)\n",
    "        combination=np.zeros((1,NMFH.shape[1]),dtype=np.int16);\n",
    "        if pvalues[np.argmin(pvalues)]<p_value:\n",
    "            for i in np.transpose(np.nonzero(lst[np.argmin(pvalues)])[0]):\n",
    "                combination+=stimparam[i]\n",
    "            if np.any(combination):\n",
    "                corrs = data_to_analyze.correlate(combination)\n",
    "                corrMat = corrs.collectValuesAsArray()\n",
    "                Masktemp=Mask.astype(np.float32).copy()\n",
    "                for idx in xrange(0,corrMat.shape[0]):\n",
    "                    Masktemp[Masktemp==idx+1]=corrMat[idx]\n",
    "                fig = figure(dpi=300)\n",
    "                plt.imshow(Masktemp)\n",
    "                plt.savefig('/mnt/downloads/'+savedirectory+'/'+filename+'-Correlation of significant NMF-'+str(k)+' combination.png', dpi=300, bbox_inches='tight')\n",
    "                scipy.io.savemat('/mnt/downloads/'+savedirectory+'/'+filename+'-Correlation of significant NMF-'+str(k)+'.mat', mdict={'correlations':corrMat}, oned_as='column', do_compression='true')\n",
    "                plt.close(\"all\")\n",
    "    with open('/mnt/downloads/'+savedirectory+'/'+filename+'-NMF_Spikes_CorrCoef.txt', 'w') as outfile:\n",
    "        i=0\n",
    "        for data_slice in results:\n",
    "            outfile.write ('NMF-'+str(i)+' CorrCoef : ' + np.array_str(data_slice[0]).rjust(10)+' p-value : '+ np.array_str(data_slice[1]) +' Combination of features : '+ np.array_str(data_slice[2]))\n",
    "            outfile.write('\\n')\n",
    "            i+=1\n",
    "    return\n",
    "\n",
    "def NMF_spikes(n_hat,stimparam,numcomp=18):\n",
    "    global data_to_analyze\n",
    "    global model\n",
    "    np.save('/mnt/downloads/'+directory+'/nhatFullData.npy',n_hat)\n",
    "    data_to_analyze=tsc.loadSeries('/mnt/downloads/'+directory+'/nhatFullData.npy', inputFormat='npy', minPartitions=300)\n",
    "    model = NMF(k=numcomp, maxIter=100,tol=0.0001,reconHist='final').fit(data_to_analyze)\n",
    "    imgs = model.w.collectAsArray()\n",
    "    scipy.io.savemat('/mnt/downloads/'+savedirectory+'/'+filename+'-NMF_Spikes.mat', mdict={'W':imgs[1],'H':model.h.T,'ReconErr':model.reconErr}, oned_as='column', do_compression='true')\n",
    "    scores=[]\n",
    "    for i in xrange(0,imgs[1].shape[1]):\n",
    "        Masktemp=Mask.astype(np.float32).copy()\n",
    "        for idx in xrange(0,imgs[1].shape[0]):\n",
    "            Masktemp[Masktemp==idx+1]=imgs[1][idx][i]\n",
    "        scores.append(Masktemp)\n",
    "    for i in xrange(0,model.h.T.shape[1]):\n",
    "        fig = figure(dpi=300)\n",
    "        plt.subplots(1, 2, sharex=True, sharey=True)\n",
    "        plt.subplot(1, 2, 1);\n",
    "        plt.plot(model.h.T[:,i])\n",
    "        plt.subplot(1, 2, 2);\n",
    "        plt.imshow(scores[i])\n",
    "        plt.savefig('/mnt/downloads/'+savedirectory+'/'+filename+'-NMF-Spikes-'+str(i)+'.png', dpi=300, bbox_inches='tight')\n",
    "        plt.close(\"all\")\n",
    "    NMFCorr(stimparam,np.transpose(model.h.T),data_to_analyze)\n",
    "    return model\n",
    "\n"
   ]
  },
  {
   "cell_type": "code",
   "execution_count": 2,
   "metadata": {
    "collapsed": false
   },
   "outputs": [
    {
     "ename": "FileNotFoundError",
     "evalue": "cannot find files of type \"tif\" in /mnt/downloads/Tonotropy2/2/",
     "output_type": "error",
     "traceback": [
      "\u001b[1;31m---------------------------------------------------------------------------\u001b[0m",
      "\u001b[1;31mFileNotFoundError\u001b[0m                         Traceback (most recent call last)",
      "\u001b[1;32m<ipython-input-2-861559df7714>\u001b[0m in \u001b[0;36m<module>\u001b[1;34m()\u001b[0m\n\u001b[0;32m      9\u001b[0m \u001b[1;32mfor\u001b[0m \u001b[0mi\u001b[0m\u001b[1;33m,\u001b[0m\u001b[0mfilename\u001b[0m \u001b[1;32min\u001b[0m \u001b[0menumerate\u001b[0m\u001b[1;33m(\u001b[0m\u001b[0mfilelist\u001b[0m\u001b[1;33m)\u001b[0m\u001b[1;33m:\u001b[0m\u001b[1;33m\u001b[0m\u001b[0m\n\u001b[0;32m     10\u001b[0m     \u001b[1;32mif\u001b[0m \u001b[0mi\u001b[0m\u001b[1;33m==\u001b[0m\u001b[1;36m1\u001b[0m\u001b[1;33m:\u001b[0m\u001b[1;33m\u001b[0m\u001b[0m\n\u001b[1;32m---> 11\u001b[1;33m         \u001b[0mimg\u001b[0m \u001b[1;33m=\u001b[0m \u001b[0mtsc\u001b[0m\u001b[1;33m.\u001b[0m\u001b[0mloadImages\u001b[0m\u001b[1;33m(\u001b[0m\u001b[1;34m'/mnt/downloads/'\u001b[0m\u001b[1;33m+\u001b[0m\u001b[0mdirectory\u001b[0m\u001b[1;33m+\u001b[0m\u001b[1;34m'/'\u001b[0m\u001b[1;33m+\u001b[0m\u001b[0mstr\u001b[0m\u001b[1;33m(\u001b[0m\u001b[0mi\u001b[0m\u001b[1;33m+\u001b[0m\u001b[1;36m1\u001b[0m\u001b[1;33m)\u001b[0m\u001b[1;33m+\u001b[0m\u001b[1;34m'/'\u001b[0m\u001b[1;33m,\u001b[0m \u001b[0minputFormat\u001b[0m\u001b[1;33m=\u001b[0m\u001b[1;34m'tif'\u001b[0m\u001b[1;33m)\u001b[0m\u001b[1;33m\u001b[0m\u001b[0m\n\u001b[0m\u001b[0;32m     12\u001b[0m         \u001b[0mMask\u001b[0m \u001b[1;33m=\u001b[0m \u001b[0mPIL\u001b[0m\u001b[1;33m.\u001b[0m\u001b[0mImage\u001b[0m\u001b[1;33m.\u001b[0m\u001b[0mopen\u001b[0m\u001b[1;33m(\u001b[0m\u001b[1;34m'/mnt/downloads/'\u001b[0m\u001b[1;33m+\u001b[0m\u001b[0mdirectory\u001b[0m\u001b[1;33m+\u001b[0m\u001b[1;34m'/Mask_'\u001b[0m\u001b[1;33m+\u001b[0m\u001b[0mfilename\u001b[0m\u001b[1;33m)\u001b[0m\u001b[1;33m\u001b[0m\u001b[0m\n\u001b[0;32m     13\u001b[0m         \u001b[0mMask\u001b[0m\u001b[1;33m=\u001b[0m\u001b[0mnp\u001b[0m\u001b[1;33m.\u001b[0m\u001b[0masarray\u001b[0m\u001b[1;33m(\u001b[0m\u001b[0mMask\u001b[0m\u001b[1;33m,\u001b[0m\u001b[0mdtype\u001b[0m\u001b[1;33m=\u001b[0m\u001b[0mnp\u001b[0m\u001b[1;33m.\u001b[0m\u001b[0muint16\u001b[0m\u001b[1;33m)\u001b[0m\u001b[1;33m\u001b[0m\u001b[0m\n",
      "\u001b[1;32m/home/ubuntu/anaconda/lib/python2.7/site-packages/thunder/utils/context.pyc\u001b[0m in \u001b[0;36mloadImages\u001b[1;34m(self, dataPath, dims, dtype, inputFormat, ext, startIdx, stopIdx, recursive, nplanes, npartitions, renumber, confFilename)\u001b[0m\n\u001b[0;32m    196\u001b[0m         \u001b[1;32melif\u001b[0m \u001b[0minputFormat\u001b[0m\u001b[1;33m.\u001b[0m\u001b[0mlower\u001b[0m\u001b[1;33m(\u001b[0m\u001b[1;33m)\u001b[0m\u001b[1;33m.\u001b[0m\u001b[0mstartswith\u001b[0m\u001b[1;33m(\u001b[0m\u001b[1;34m'tif'\u001b[0m\u001b[1;33m)\u001b[0m\u001b[1;33m:\u001b[0m\u001b[1;33m\u001b[0m\u001b[0m\n\u001b[0;32m    197\u001b[0m             data = loader.fromTif(dataPath, ext=ext, startIdx=startIdx, stopIdx=stopIdx, recursive=recursive,\n\u001b[1;32m--> 198\u001b[1;33m                                   nplanes=nplanes, npartitions=npartitions)\n\u001b[0m\u001b[0;32m    199\u001b[0m         \u001b[1;32melse\u001b[0m\u001b[1;33m:\u001b[0m\u001b[1;33m\u001b[0m\u001b[0m\n\u001b[0;32m    200\u001b[0m             \u001b[1;32mif\u001b[0m \u001b[0mnplanes\u001b[0m\u001b[1;33m:\u001b[0m\u001b[1;33m\u001b[0m\u001b[0m\n",
      "\u001b[1;32m/home/ubuntu/anaconda/lib/python2.7/site-packages/thunder/rdds/fileio/imagesloader.pyc\u001b[0m in \u001b[0;36mfromTif\u001b[1;34m(self, dataPath, ext, startIdx, stopIdx, recursive, nplanes, npartitions)\u001b[0m\n\u001b[0;32m    372\u001b[0m         \u001b[0mreader\u001b[0m \u001b[1;33m=\u001b[0m \u001b[0mgetParallelReaderForPath\u001b[0m\u001b[1;33m(\u001b[0m\u001b[0mdataPath\u001b[0m\u001b[1;33m)\u001b[0m\u001b[1;33m(\u001b[0m\u001b[0mself\u001b[0m\u001b[1;33m.\u001b[0m\u001b[0msc\u001b[0m\u001b[1;33m,\u001b[0m \u001b[0mawsCredentialsOverride\u001b[0m\u001b[1;33m=\u001b[0m\u001b[0mself\u001b[0m\u001b[1;33m.\u001b[0m\u001b[0mawsCredentialsOverride\u001b[0m\u001b[1;33m)\u001b[0m\u001b[1;33m\u001b[0m\u001b[0m\n\u001b[0;32m    373\u001b[0m         readerRdd = reader.read(dataPath, ext=ext, startIdx=startIdx, stopIdx=stopIdx, recursive=recursive,\n\u001b[1;32m--> 374\u001b[1;33m                                 npartitions=npartitions)\n\u001b[0m\u001b[0;32m    375\u001b[0m         \u001b[0mnrecords\u001b[0m \u001b[1;33m=\u001b[0m \u001b[0mreader\u001b[0m\u001b[1;33m.\u001b[0m\u001b[0mlastNRecs\u001b[0m \u001b[1;32mif\u001b[0m \u001b[0mnplanes\u001b[0m \u001b[1;32mis\u001b[0m \u001b[0mNone\u001b[0m \u001b[1;32melse\u001b[0m \u001b[0mNone\u001b[0m\u001b[1;33m\u001b[0m\u001b[0m\n\u001b[0;32m    376\u001b[0m         \u001b[1;32mreturn\u001b[0m \u001b[0mImages\u001b[0m\u001b[1;33m(\u001b[0m\u001b[0mreaderRdd\u001b[0m\u001b[1;33m.\u001b[0m\u001b[0mflatMap\u001b[0m\u001b[1;33m(\u001b[0m\u001b[0mmultitifReader\u001b[0m\u001b[1;33m)\u001b[0m\u001b[1;33m,\u001b[0m \u001b[0mnrecords\u001b[0m\u001b[1;33m=\u001b[0m\u001b[0mnrecords\u001b[0m\u001b[1;33m)\u001b[0m\u001b[1;33m\u001b[0m\u001b[0m\n",
      "\u001b[1;32m/home/ubuntu/anaconda/lib/python2.7/site-packages/thunder/rdds/fileio/readers.pyc\u001b[0m in \u001b[0;36mread\u001b[1;34m(self, dataPath, ext, startIdx, stopIdx, recursive, npartitions)\u001b[0m\n\u001b[0;32m    186\u001b[0m         \"\"\"\n\u001b[0;32m    187\u001b[0m         \u001b[0mabsPath\u001b[0m \u001b[1;33m=\u001b[0m \u001b[0mself\u001b[0m\u001b[1;33m.\u001b[0m\u001b[0muriToPath\u001b[0m\u001b[1;33m(\u001b[0m\u001b[0mdataPath\u001b[0m\u001b[1;33m)\u001b[0m\u001b[1;33m\u001b[0m\u001b[0m\n\u001b[1;32m--> 188\u001b[1;33m         \u001b[0mfilePaths\u001b[0m \u001b[1;33m=\u001b[0m \u001b[0mself\u001b[0m\u001b[1;33m.\u001b[0m\u001b[0mlistFiles\u001b[0m\u001b[1;33m(\u001b[0m\u001b[0mabsPath\u001b[0m\u001b[1;33m,\u001b[0m \u001b[0mext\u001b[0m\u001b[1;33m=\u001b[0m\u001b[0mext\u001b[0m\u001b[1;33m,\u001b[0m \u001b[0mstartIdx\u001b[0m\u001b[1;33m=\u001b[0m\u001b[0mstartIdx\u001b[0m\u001b[1;33m,\u001b[0m \u001b[0mstopIdx\u001b[0m\u001b[1;33m=\u001b[0m\u001b[0mstopIdx\u001b[0m\u001b[1;33m,\u001b[0m \u001b[0mrecursive\u001b[0m\u001b[1;33m=\u001b[0m\u001b[0mrecursive\u001b[0m\u001b[1;33m)\u001b[0m\u001b[1;33m\u001b[0m\u001b[0m\n\u001b[0m\u001b[0;32m    189\u001b[0m \u001b[1;33m\u001b[0m\u001b[0m\n\u001b[0;32m    190\u001b[0m         \u001b[0mlfilepaths\u001b[0m \u001b[1;33m=\u001b[0m \u001b[0mlen\u001b[0m\u001b[1;33m(\u001b[0m\u001b[0mfilePaths\u001b[0m\u001b[1;33m)\u001b[0m\u001b[1;33m\u001b[0m\u001b[0m\n",
      "\u001b[1;32m/home/ubuntu/anaconda/lib/python2.7/site-packages/thunder/rdds/fileio/readers.pyc\u001b[0m in \u001b[0;36mlistFiles\u001b[1;34m(self, absPath, ext, startIdx, stopIdx, recursive)\u001b[0m\n\u001b[0;32m    175\u001b[0m             \u001b[0mLocalFSParallelReader\u001b[0m\u001b[1;33m.\u001b[0m\u001b[0m_listFilesRecursive\u001b[0m\u001b[1;33m(\u001b[0m\u001b[0mabsPath\u001b[0m\u001b[1;33m,\u001b[0m \u001b[0mext\u001b[0m\u001b[1;33m)\u001b[0m\u001b[1;33m\u001b[0m\u001b[0m\n\u001b[0;32m    176\u001b[0m         \u001b[1;32mif\u001b[0m \u001b[0mlen\u001b[0m\u001b[1;33m(\u001b[0m\u001b[0mfiles\u001b[0m\u001b[1;33m)\u001b[0m \u001b[1;33m<\u001b[0m \u001b[1;36m1\u001b[0m\u001b[1;33m:\u001b[0m\u001b[1;33m\u001b[0m\u001b[0m\n\u001b[1;32m--> 177\u001b[1;33m             \u001b[1;32mraise\u001b[0m \u001b[0mFileNotFoundError\u001b[0m\u001b[1;33m(\u001b[0m\u001b[1;34m'cannot find files of type \"%s\" in %s'\u001b[0m \u001b[1;33m%\u001b[0m \u001b[1;33m(\u001b[0m\u001b[0mext\u001b[0m \u001b[1;32mif\u001b[0m \u001b[0mext\u001b[0m \u001b[1;32melse\u001b[0m \u001b[1;34m'*'\u001b[0m\u001b[1;33m,\u001b[0m \u001b[0mabsPath\u001b[0m\u001b[1;33m)\u001b[0m\u001b[1;33m)\u001b[0m\u001b[1;33m\u001b[0m\u001b[0m\n\u001b[0m\u001b[0;32m    178\u001b[0m         \u001b[0mfiles\u001b[0m \u001b[1;33m=\u001b[0m \u001b[0mselectByStartAndStopIndices\u001b[0m\u001b[1;33m(\u001b[0m\u001b[0mfiles\u001b[0m\u001b[1;33m,\u001b[0m \u001b[0mstartIdx\u001b[0m\u001b[1;33m,\u001b[0m \u001b[0mstopIdx\u001b[0m\u001b[1;33m)\u001b[0m\u001b[1;33m\u001b[0m\u001b[0m\n\u001b[0;32m    179\u001b[0m \u001b[1;33m\u001b[0m\u001b[0m\n",
      "\u001b[1;31mFileNotFoundError\u001b[0m: cannot find files of type \"tif\" in /mnt/downloads/Tonotropy2/2/"
     ]
    }
   ],
   "source": [
    "directory='Tonotropy2'\n",
    "savedirectory='TonotropyResults2'\n",
    "os.chdir('/mnt/downloads/'+directory+'/')\n",
    "p=Popen(['ls'], shell=False, stdout=PIPE, close_fds=True).stdout.readlines()\n",
    "filelist=[]\n",
    "for filename in p:\n",
    "    if filename.startswith('GC'):\n",
    "        filelist.append(filename.rstrip('\\n'))\n",
    "for i,filename in enumerate(filelist):\n",
    "    if i==1:\n",
    "        img = tsc.loadImages('/mnt/downloads/'+directory+'/'+str(i+1)+'/', inputFormat='tif')\n",
    "        Mask = PIL.Image.open('/mnt/downloads/'+directory+'/Mask_'+filename)\n",
    "        Mask=np.asarray(Mask,dtype=np.uint16)\n",
    "        n_hat, C_hat, LL, theta_hat = Spikeinference(img,Mask)\n",
    "        model=NMF_spikes(n_hat,aud8freq)\n",
    "        results = RegressionModel.load(aud8freq, 'linear').fit(data_to_analyze)\n",
    "        betas=results.select('betas').collectValuesAsArray()\n",
    "        rsq=results.select('stats').collectValuesAsArray()\n",
    "        scipy.io.savemat('/mnt/downloads/'+savedirectory+'/'+filename+'-linreg.mat', mdict={'betas':betas,'rsq':rsq}, oned_as='column', do_compression='true')\n",
    "        plt.close(\"all\")\n",
    "    \n",
    "        "
   ]
  },
  {
   "cell_type": "code",
   "execution_count": 45,
   "metadata": {
    "collapsed": false
   },
   "outputs": [],
   "source": [
    "directory='Tonotropy2/neo'\n",
    "savedirectory='TonotropyResults2'\n",
    "os.chdir('/mnt/downloads/'+directory+'/')\n",
    "p=Popen(['ls'], shell=False, stdout=PIPE, close_fds=True).stdout.readlines()\n",
    "filelist=[]\n",
    "for filename in p:\n",
    "    if filename.startswith('neo'):\n",
    "        filelist.append(filename.rstrip('\\n'))\n",
    "for i,filename in enumerate(filelist):\n",
    "    if i>0:\n",
    "        img = tsc.loadImages('/mnt/downloads/'+directory+'/'+str(i+1)+'/', inputFormat='tif')\n",
    "        Mask = PIL.Image.open('/mnt/downloads/'+directory+'/Mask_'+filename)\n",
    "        Mask=np.asarray(Mask,dtype=np.uint16)\n",
    "        n_hat, C_hat, LL, theta_hat = Spikeinference(img,Mask)\n",
    "        model=NMF_spikes(n_hat,aud8freq)\n",
    "        results = RegressionModel.load(aud8freq, 'linear').fit(data_to_analyze)\n",
    "        betas=results.select('betas').collectValuesAsArray()\n",
    "        rsq=results.select('stats').collectValuesAsArray()\n",
    "        scipy.io.savemat('/mnt/downloads/'+savedirectory+'/'+filename+'-linreg.mat', mdict={'betas':betas,'rsq':rsq}, oned_as='column', do_compression='true')\n",
    "        plt.close(\"all\")\n",
    "        results = RegressionModel.load(aud8freq, 'linear').fit(MeanFluo_ROI_thund)\n",
    "        betas=results.select('betas').collectValuesAsArray()\n",
    "        rsq=results.select('stats').collectValuesAsArray()\n",
    "        scipy.io.savemat('/mnt/downloads/'+savedirectory+'/'+filename+'-RAW-linreg.mat', mdict={'betas':betas,'rsq':rsq}, oned_as='column', do_compression='true')"
   ]
  },
  {
   "cell_type": "code",
   "execution_count": 7,
   "metadata": {
    "collapsed": false
   },
   "outputs": [],
   "source": [
    "aud8freq=np.zeros((8,700),dtype=np.int);\n",
    "aud8freq[0,21:21+5]=1;\n",
    "aud8freq[0,406:406+5]=1;\n",
    "aud8freq[0,611:611+5]=1;\n",
    "\n",
    "aud8freq[1,46:46+5]=1;\n",
    "aud8freq[1,381:381+5]=1;\n",
    "aud8freq[1,536:536+5]=1;\n",
    "\n",
    "aud8freq[2,71:71+5]=1;\n",
    "aud8freq[2,356:356+5]=1;\n",
    "aud8freq[2,511:511+5]=1;\n",
    "\n",
    "aud8freq[3,96:96+5]=1;\n",
    "aud8freq[3,331:331+5]=1;\n",
    "aud8freq[3,561:561+5]=1;\n",
    "\n",
    "aud8freq[4,121:121+5]=1;\n",
    "aud8freq[4,306:306+5]=1;\n",
    "aud8freq[4,486:486+5]=1;\n",
    "\n",
    "aud8freq[5,146:146+5]=1;\n",
    "aud8freq[5,281:281+5]=1;\n",
    "aud8freq[5,586:586+5]=1;\n",
    "\n",
    "aud8freq[6,171:171+5]=1;\n",
    "aud8freq[6,256:256+5]=1;\n",
    "aud8freq[6,461:461+5]=1;\n",
    "\n",
    "aud8freq[7,196:196+5]=1;\n",
    "aud8freq[7,231:231+5]=1;\n",
    "aud8freq[7,636:636+5]=1;"
   ]
  },
  {
   "cell_type": "code",
   "execution_count": 40,
   "metadata": {
    "collapsed": false
   },
   "outputs": [],
   "source": [
    "MeanFluo_ROI_thund=MeanFluo_ROI_thund.toSeries()"
   ]
  },
  {
   "cell_type": "code",
   "execution_count": 46,
   "metadata": {
    "collapsed": false
   },
   "outputs": [],
   "source": [
    "directory='Tonotropy2'\n",
    "savedirectory='TonotropyResults2'\n",
    "os.chdir('/mnt/downloads/'+directory+'/')\n",
    "p=Popen(['ls'], shell=False, stdout=PIPE, close_fds=True).stdout.readlines()\n",
    "filelist=[]\n",
    "for filename in p:\n",
    "    if filename.startswith('GC'):\n",
    "        filelist.append(filename.rstrip('\\n'))\n",
    "for i,filename in enumerate(filelist):\n",
    "    img = tsc.loadImages('/mnt/downloads/'+directory+'/'+str(i+1)+'/', inputFormat='tif')\n",
    "    Mask = PIL.Image.open('/mnt/downloads/'+directory+'/Mask_'+filename)\n",
    "    Mask=np.asarray(Mask,dtype=np.uint16)\n",
    "    MeanFluo_ROI_thund=img.meanByRegions(Mask).toSeries()\n",
    "    results = RegressionModel.load(aud8freq, 'linear').fit(MeanFluo_ROI_thund)\n",
    "    betas=results.select('betas').collectValuesAsArray()\n",
    "    rsq=results.select('stats').collectValuesAsArray()\n",
    "    scipy.io.savemat('/mnt/downloads/'+savedirectory+'/'+filename+'-RAW-linreg.mat', mdict={'betas':betas,'rsq':rsq}, oned_as='column', do_compression='true')"
   ]
  },
  {
   "cell_type": "code",
   "execution_count": 47,
   "metadata": {
    "collapsed": false
   },
   "outputs": [],
   "source": [
    "directory='Tonotropy2'\n",
    "savedirectory='TonotropyResults2'\n",
    "os.chdir('/mnt/downloads/'+directory+'/')\n",
    "p=Popen(['ls'], shell=False, stdout=PIPE, close_fds=True).stdout.readlines()\n",
    "filelist=[]\n",
    "for filename in p:\n",
    "    if filename.startswith('GC'):\n",
    "        filelist.append(filename.rstrip('\\n'))\n",
    "for i,filename in enumerate(filelist):\n",
    "    img = tsc.loadImages('/mnt/downloads/'+directory+'/'+str(i+1)+'/', inputFormat='tif')\n",
    "    Mask = PIL.Image.open('/mnt/downloads/'+directory+'/Mask_'+filename)\n",
    "    Mask=np.asarray(Mask,dtype=np.uint16)\n",
    "    MeanFluo_ROI_thund=img.meanByRegions(Mask).toSeries()\n",
    "    results = RegressionModel.load(aud8freq, 'linear').fit(MeanFluo_ROI_thund)\n",
    "    betas=results.select('betas').collectValuesAsArray()\n",
    "    rsq=results.select('stats').collectValuesAsArray()\n",
    "    scipy.io.savemat('/mnt/downloads/'+savedirectory+'/'+filename+'-RAW-linreg.mat', mdict={'betas':betas,'rsq':rsq}, oned_as='column', do_compression='true')"
   ]
  },
  {
   "cell_type": "code",
   "execution_count": 27,
   "metadata": {
    "collapsed": false
   },
   "outputs": [
    {
     "data": {
      "text/plain": [
       "(8, 700)"
      ]
     },
     "execution_count": 27,
     "metadata": {},
     "output_type": "execute_result"
    }
   ],
   "source": [
    "aud8freq2=np.zeros((9,701),dtype=np.int);\n",
    "aud8freq2[1,22:24+1]=1;\n",
    "aud8freq2[1,407:409+1]=1;\n",
    "aud8freq2[1,611:613+1]=1;\n",
    "\n",
    "aud8freq2[2,47:49+1]=1;\n",
    "aud8freq2[2,383:385+1]=1;\n",
    "aud8freq2[2,534:536+1]=1;\n",
    "\n",
    "aud8freq2[3,71:73+1]=1;\n",
    "aud8freq2[3,357:359+1]=1;\n",
    "aud8freq2[3,507:509+1]=1;\n",
    "\n",
    "aud8freq2[4,97:99+1]=1;\n",
    "aud8freq2[4,330:332+1]=1;\n",
    "aud8freq2[4,556:558+1]=1;\n",
    "\n",
    "aud8freq2[5,121:123+1]=1;\n",
    "aud8freq2[5,306:308+1]=1;\n",
    "aud8freq2[5,487:490+1]=1;\n",
    "\n",
    "aud8freq2[6,146:149+1]=1;\n",
    "aud8freq2[6,278:280+1]=1;\n",
    "aud8freq2[6,586:589+1]=1;\n",
    "\n",
    "aud8freq2[7,167:169+1]=1;\n",
    "aud8freq2[7,254:256+1]=1;\n",
    "aud8freq2[7,469:471+1]=1;\n",
    "\n",
    "aud8freq2[8,190:193+1]=1;\n",
    "aud8freq2[8,229:231+1]=1;\n",
    "aud8freq2[8,646:648+1]=1;\n",
    "aud8freq2=np.delete(aud8freq2, 0, 1)\n",
    "aud8freq2=np.delete(aud8freq2, 0, 0)\n",
    "aud8freq2.shape"
   ]
  },
  {
   "cell_type": "code",
   "execution_count": null,
   "metadata": {
    "collapsed": false
   },
   "outputs": [],
   "source": [
    "directory='Tonotropy'\n",
    "savedirectory='TonotropyResults'\n",
    "os.chdir('/mnt/downloads/'+directory+'/')\n",
    "p=Popen(['ls'], shell=False, stdout=PIPE, close_fds=True).stdout.readlines()\n",
    "filelist=[]\n",
    "for filename in p:\n",
    "    if filename.startswith('GC'):\n",
    "        filelist.append(filename.rstrip('\\n'))\n",
    "for i,filename in enumerate(filelist):    \n",
    "    img = tsc.loadImages('/mnt/downloads/'+directory+'/'+str(i+1)+'/', inputFormat='tif')\n",
    "    Mask = PIL.Image.open('/mnt/downloads/'+directory+'/Mask_'+filename)\n",
    "    Mask=np.asarray(Mask,dtype=np.uint16)\n",
    "    n_hat, C_hat, LL, theta_hat = Spikeinference(img,Mask)\n",
    "    model=NMF_spikes(n_hat,aud8freq2)\n",
    "    results = RegressionModel.load(aud8freq2, 'linear').fit(data_to_analyze)\n",
    "    betas=results.select('betas').collectValuesAsArray()\n",
    "    rsq=results.select('stats').collectValuesAsArray()\n",
    "    scipy.io.savemat('/mnt/downloads/'+savedirectory+'/'+filename+'-linreg.mat', mdict={'betas':betas,'rsq':rsq}, oned_as='column', do_compression='true')\n",
    "    plt.close(\"all\")\n",
    "    results = RegressionModel.load(aud8freq2, 'linear').fit(MeanFluo_ROI_thund)\n",
    "    betas=results.select('betas').collectValuesAsArray()\n",
    "    rsq=results.select('stats').collectValuesAsArray()\n",
    "    scipy.io.savemat('/mnt/downloads/'+savedirectory+'/'+filename+'-RAW-linreg.mat', mdict={'betas':betas,'rsq':rsq}, oned_as='column', do_compression='true')"
   ]
  },
  {
   "cell_type": "code",
   "execution_count": 5,
   "metadata": {
    "collapsed": false
   },
   "outputs": [],
   "source": [
    "directory='Tonotropy'\n",
    "savedirectory='TonotropyResults'\n",
    "os.chdir('/mnt/downloads/'+directory+'/')\n",
    "p=Popen(['ls'], shell=False, stdout=PIPE, close_fds=True).stdout.readlines()\n",
    "filelist=[]\n",
    "for filename in p:\n",
    "    if filename.startswith('GC'):\n",
    "        filelist.append(filename.rstrip('\\n'))"
   ]
  },
  {
   "cell_type": "code",
   "execution_count": 13,
   "metadata": {
    "collapsed": false
   },
   "outputs": [
    {
     "data": {
      "text/plain": [
       "(168459, 700)"
      ]
     },
     "execution_count": 13,
     "metadata": {},
     "output_type": "execute_result"
    }
   ],
   "source": [
    "for i,filename in enumerate(filelist):\n",
    "    if i==0:\n",
    "        SegmentData=np.loadtxt('/mnt/downloads/'+savedirectory+'/'+filename+'-segmentation-ROI_Raw.csv')\n",
    "    else:\n",
    "        tempseg=np.loadtxt('/mnt/downloads/'+savedirectory+'/'+filename+'-segmentation-ROI_Raw.csv')\n",
    "        SegmentData=np.concatenate((SegmentData,tempseg),axis=1)\n",
    "SegmentData=np.transpose(SegmentData)\n",
    "SegmentData.shape"
   ]
  },
  {
   "cell_type": "code",
   "execution_count": 14,
   "metadata": {
    "collapsed": false
   },
   "outputs": [],
   "source": [
    "np.save('/mnt/downloads/'+directory+'/SegmentDataFull.npy',SegmentData)\n",
    "data_to_analyze=tsc.loadSeries('/mnt/downloads/'+directory+'/SegmentDataFull.npy', inputFormat='npy', minPartitions=5000)"
   ]
  },
  {
   "cell_type": "code",
   "execution_count": 5,
   "metadata": {
    "collapsed": false
   },
   "outputs": [],
   "source": [
    "data_to_analyze=tsc.loadSeries('/mnt/downloads/'+directory+'/SegmentDataFull.npy', inputFormat='npy', minPartitions=5000)"
   ]
  },
  {
   "cell_type": "code",
   "execution_count": 8,
   "metadata": {
    "collapsed": false
   },
   "outputs": [
    {
     "data": {
      "text/plain": [
       "Series\n",
       "nrecords: None (inspect to compute)\n",
       "dtype: float64\n",
       "dims: None (inspect to compute)\n",
       "index: None (inspect to compute)"
      ]
     },
     "execution_count": 8,
     "metadata": {},
     "output_type": "execute_result"
    }
   ],
   "source": [
    "data_to_analyze.cache()\n",
    "data_to_analyze"
   ]
  },
  {
   "cell_type": "code",
   "execution_count": 16,
   "metadata": {
    "collapsed": false
   },
   "outputs": [],
   "source": [
    "model = NMF(k=30, maxIter=200,tol=0.0001,reconHist='final').fit(data_to_analyze)\n",
    "imgs = model.w.collectAsArray()\n",
    "scipy.io.savemat('/mnt/downloads/'+savedirectory+'/SegmentFull-NMF.mat', mdict={'W':imgs[1],'H':model.h.T,'ReconErr':model.reconErr}, oned_as='column', do_compression='true')\n",
    "scores=[]\n",
    "for i in xrange(0,model.h.T.shape[1],3):\n",
    "    fig = figure(dpi=300)\n",
    "    plt.plot(model.h.T[:,i:i+3])\n",
    "    plt.savefig('/mnt/downloads/'+savedirectory+'/SegmentFull-NMF-'+str(i)+'.png', dpi=300, bbox_inches='tight')\n",
    "    plt.close(\"all\")"
   ]
  },
  {
   "cell_type": "code",
   "execution_count": 15,
   "metadata": {
    "collapsed": false
   },
   "outputs": [],
   "source": [
    "results = RegressionModel.load(aud8freq, 'linear').fit(data_to_analyze)\n",
    "betas=results.select('betas').collectValuesAsArray()\n",
    "rsq=results.select('stats').collectValuesAsArray()\n",
    "scipy.io.savemat('/mnt/downloads/'+savedirectory+'/SegmentFull-linreg.mat', mdict={'betas':betas,'rsq':rsq}, oned_as='column', do_compression='true')"
   ]
  },
  {
   "cell_type": "code",
   "execution_count": 18,
   "metadata": {
    "collapsed": false
   },
   "outputs": [
    {
     "ename": "TypeError",
     "evalue": "'tuple' object is not callable",
     "output_type": "error",
     "traceback": [
      "\u001b[1;31m---------------------------------------------------------------------------\u001b[0m",
      "\u001b[1;31mTypeError\u001b[0m                                 Traceback (most recent call last)",
      "\u001b[1;32m<ipython-input-18-7748cbedc73d>\u001b[0m in \u001b[0;36m<module>\u001b[1;34m()\u001b[0m\n\u001b[0;32m      1\u001b[0m \u001b[0mMeanFluo_ROI\u001b[0m\u001b[1;33m=\u001b[0m\u001b[0mdata_to_analyze\u001b[0m\u001b[1;33m.\u001b[0m\u001b[0mcollectValuesAsArray\u001b[0m\u001b[1;33m(\u001b[0m\u001b[1;33m)\u001b[0m\u001b[1;33m\u001b[0m\u001b[0m\n\u001b[1;32m----> 2\u001b[1;33m \u001b[0mMeanFluo_ROI\u001b[0m\u001b[1;33m.\u001b[0m\u001b[0mshape\u001b[0m\u001b[1;33m(\u001b[0m\u001b[1;33m)\u001b[0m\u001b[1;33m\u001b[0m\u001b[0m\n\u001b[0m",
      "\u001b[1;31mTypeError\u001b[0m: 'tuple' object is not callable"
     ]
    }
   ],
   "source": [
    "MeanFluo_ROI=data_to_analyze.collectValuesAsArray()\n",
    "MeanFluo_ROI.shape()"
   ]
  },
  {
   "cell_type": "code",
   "execution_count": 24,
   "metadata": {
    "collapsed": false
   },
   "outputs": [],
   "source": [
    "n_hat, C_hat, LL, theta_hat=apply_all_cells(MeanFluo_ROI,disp=0, n_jobs=-1)\n",
    "scipy.io.savemat('/mnt/downloads/'+savedirectory+'/'+filename+'-ROI_SpikePred.mat', mdict={'n_hat':n_hat,'C_hat':C_hat,'LL':LL,'theta_hat':theta_hat}, oned_as='column', do_compression='true')    "
   ]
  },
  {
   "cell_type": "code",
   "execution_count": 25,
   "metadata": {
    "collapsed": false
   },
   "outputs": [],
   "source": [
    "scipy.io.savemat('/mnt/downloads/'+savedirectory+'/SegmentFull-RAW-spikes.mat', mdict={'InferedSpikes':n_hat}, oned_as='column', do_compression='true')"
   ]
  },
  {
   "cell_type": "code",
   "execution_count": 30,
   "metadata": {
    "collapsed": false
   },
   "outputs": [],
   "source": [
    "np.save('/mnt/downloads/'+directory+'/nhatFullData.npy',n_hat)\n",
    "n_hat_thund=tsc.loadSeries('/mnt/downloads/'+directory+'/nhatFullData.npy', inputFormat='npy', minPartitions=5000)"
   ]
  },
  {
   "cell_type": "code",
   "execution_count": null,
   "metadata": {
    "collapsed": false
   },
   "outputs": [],
   "source": [
    "results = RegressionModel.load(aud8freq2, 'linear').fit(n_hat_thund)\n",
    "betas=results.select('betas').collectValuesAsArray()\n",
    "rsq=results.select('stats').collectValuesAsArray()\n",
    "scipy.io.savemat('/mnt/downloads/'+savedirectory+'/SegmentFull-Spikes-linreg.mat', mdict={'betas-spikes':betas,'rsq-spikes':rsq}, oned_as='column', do_compression='true')"
   ]
  },
  {
   "cell_type": "code",
   "execution_count": null,
   "metadata": {
    "collapsed": true
   },
   "outputs": [],
   "source": [
    "model = NMF(k=30, maxIter=200,tol=0.0001,reconHist='final').fit(n_hat_thund)\n",
    "imgs = model.w.collectAsArray()\n",
    "scipy.io.savemat('/mnt/downloads/'+savedirectory+'/SegmentFull-NMF.mat', mdict={'W-spikes':imgs[1],'H-spikes':model.h.T,'ReconErr-spikes':model.reconErr}, oned_as='column', do_compression='true')\n",
    "scores=[]\n",
    "for i in xrange(0,model.h.T.shape[1],3):\n",
    "    fig = figure(dpi=300)\n",
    "    plt.plot(model.h.T[:,i:i+3])\n",
    "    plt.savefig('/mnt/downloads/'+savedirectory+'/SegmentFull-spikes-NMF-'+str(i)+'.png', dpi=300, bbox_inches='tight')\n",
    "    plt.close(\"all\")"
   ]
  },
  {
   "cell_type": "code",
   "execution_count": 51,
   "metadata": {
    "collapsed": false
   },
   "outputs": [
    {
     "data": {
      "text/plain": [
       "168459"
      ]
     },
     "execution_count": 51,
     "metadata": {},
     "output_type": "execute_result"
    }
   ],
   "source": [
    "data_to_analyze.nrecords"
   ]
  },
  {
   "cell_type": "code",
   "execution_count": 4,
   "metadata": {
    "collapsed": false
   },
   "outputs": [
    {
     "ename": "NameError",
     "evalue": "name 'idx' is not defined",
     "output_type": "error",
     "traceback": [
      "\u001b[1;31m---------------------------------------------------------------------------\u001b[0m",
      "\u001b[1;31mNameError\u001b[0m                                 Traceback (most recent call last)",
      "\u001b[1;32m<ipython-input-4-126c93740a66>\u001b[0m in \u001b[0;36m<module>\u001b[1;34m()\u001b[0m\n\u001b[1;32m----> 1\u001b[1;33m \u001b[0midx\u001b[0m\u001b[1;33m[\u001b[0m\u001b[1;36m0\u001b[0m\u001b[1;33m]\u001b[0m\u001b[1;33m\u001b[0m\u001b[0m\n\u001b[0m",
      "\u001b[1;31mNameError\u001b[0m: name 'idx' is not defined"
     ]
    }
   ],
   "source": [
    "idx[0]"
   ]
  },
  {
   "cell_type": "code",
   "execution_count": 56,
   "metadata": {
    "collapsed": true
   },
   "outputs": [],
   "source": [
    "data_select=data_to_analyze.selectByIndex(idx[0])"
   ]
  },
  {
   "cell_type": "code",
   "execution_count": 61,
   "metadata": {
    "collapsed": false
   },
   "outputs": [
    {
     "data": {
      "text/plain": [
       "True"
      ]
     },
     "execution_count": 61,
     "metadata": {},
     "output_type": "execute_result"
    }
   ],
   "source": [
    "np.any(4==idx[0])"
   ]
  },
  {
   "cell_type": "code",
   "execution_count": 63,
   "metadata": {
    "collapsed": false
   },
   "outputs": [],
   "source": [
    "data_select=data_to_analyze._constructor(data_to_analyze.rdd.filter(lambda (k, v): np.any(k==idx[0]))).__finalize__(data_to_analyze)._resetCounts()"
   ]
  },
  {
   "cell_type": "code",
   "execution_count": 65,
   "metadata": {
    "collapsed": false
   },
   "outputs": [
    {
     "data": {
      "text/plain": [
       "11849"
      ]
     },
     "execution_count": 65,
     "metadata": {},
     "output_type": "execute_result"
    }
   ],
   "source": [
    "data_select.nrecords"
   ]
  },
  {
   "cell_type": "code",
   "execution_count": null,
   "metadata": {
    "collapsed": true
   },
   "outputs": [],
   "source": [
    "model = NMF(k=30, maxIter=200,tol=0.0001,reconHist='final').fit(data_select)\n",
    "imgs = model.w.collectAsArray()\n",
    "scipy.io.savemat('/mnt/downloads/'+savedirectory+'/SegmentFull-NMF.mat', mdict={'W':imgs[1],'H':model.h.T,'ReconErr':model.reconErr}, oned_as='column', do_compression='true')\n",
    "scores=[]\n",
    "for i in xrange(0,model.h.T.shape[1],3):\n",
    "    fig = figure(dpi=300)\n",
    "    plt.plot(model.h.T[:,i:i+3])\n",
    "    plt.savefig('/mnt/downloads/'+savedirectory+'/SegmentFull-NMF-'+str(i)+'.png', dpi=300, bbox_inches='tight')\n",
    "    plt.close(\"all\")"
   ]
  },
  {
   "cell_type": "code",
   "execution_count": null,
   "metadata": {
    "collapsed": true
   },
   "outputs": [],
   "source": [
    "scipy.io.savemat('/mnt/downloads/'+savedirectory+'/SegmentFull-index_filt.mat', mdict={'index':idx[0]}, oned_as='column', do_compression='true')"
   ]
  },
  {
   "cell_type": "code",
   "execution_count": 6,
   "metadata": {
    "collapsed": true
   },
   "outputs": [],
   "source": [
    "idx=scipy.io.loadmat('/mnt/downloads/'+savedirectory+'/SegmentFull-index_filt.mat')"
   ]
  },
  {
   "cell_type": "code",
   "execution_count": 8,
   "metadata": {
    "collapsed": false
   },
   "outputs": [],
   "source": [
    "idx=idx['index']"
   ]
  },
  {
   "cell_type": "code",
   "execution_count": 56,
   "metadata": {
    "collapsed": false
   },
   "outputs": [
    {
     "data": {
      "text/plain": [
       "array([     4,     34,     66, ..., 168295, 168303, 168308])"
      ]
     },
     "execution_count": 56,
     "metadata": {},
     "output_type": "execute_result"
    }
   ],
   "source": [
    "idx"
   ]
  },
  {
   "cell_type": "code",
   "execution_count": 27,
   "metadata": {
    "collapsed": false
   },
   "outputs": [],
   "source": [
    "import csv\n",
    "with open('/mnt/downloads/TonotropyResults/dict_idx.csv', mode='r') as infile:\n",
    "    reader = csv.reader(infile)\n",
    "    mydict = {rows[0]:literal_eval(rows[1]) for rows in reader}"
   ]
  },
  {
   "cell_type": "code",
   "execution_count": 20,
   "metadata": {
    "collapsed": false
   },
   "outputs": [],
   "source": [
    "from ast import literal_eval\n",
    "l = literal_eval(mydict['GCamp6s-8tones-F5_100um.tif'])"
   ]
  },
  {
   "cell_type": "code",
   "execution_count": 122,
   "metadata": {
    "collapsed": false
   },
   "outputs": [
    {
     "data": {
      "text/plain": [
       "array([  40,   57,   62,   66,  105,  208,  221,  423,  436,  534,  662,\n",
       "        668, 1065, 1076, 1354])"
      ]
     },
     "execution_count": 122,
     "metadata": {},
     "output_type": "execute_result"
    }
   ],
   "source": [
    "e=np.asarray(mydict[filename])\n",
    "e[:,0]"
   ]
  },
  {
   "cell_type": "code",
   "execution_count": 123,
   "metadata": {
    "collapsed": false
   },
   "outputs": [
    {
     "data": {
      "text/plain": [
       "array([[  40, 2699],\n",
       "       [  57, 2716],\n",
       "       [  62, 2721],\n",
       "       [  66, 2725],\n",
       "       [ 105, 2764],\n",
       "       [ 208, 2867],\n",
       "       [ 221, 2880],\n",
       "       [ 423, 3082],\n",
       "       [ 436, 3095],\n",
       "       [ 534, 3193],\n",
       "       [ 662, 3321],\n",
       "       [ 668, 3327],\n",
       "       [1065, 3724],\n",
       "       [1076, 3735],\n",
       "       [1354, 4013]])"
      ]
     },
     "execution_count": 123,
     "metadata": {},
     "output_type": "execute_result"
    }
   ],
   "source": [
    "e"
   ]
  },
  {
   "cell_type": "code",
   "execution_count": 117,
   "metadata": {
    "collapsed": false
   },
   "outputs": [
    {
     "data": {
      "text/plain": [
       "42.760998349159088"
      ]
     },
     "execution_count": 117,
     "metadata": {},
     "output_type": "execute_result"
    }
   ],
   "source": [
    "Mask_NMF[29,:,:].max()"
   ]
  },
  {
   "cell_type": "code",
   "execution_count": 33,
   "metadata": {
    "collapsed": true
   },
   "outputs": [],
   "source": [
    "savedirectory='TonotropyResults2'\n",
    "NMF=scipy.io.loadmat('/mnt/downloads/TonotropyResults/SegmentFull-NMF.mat')"
   ]
  },
  {
   "cell_type": "code",
   "execution_count": 81,
   "metadata": {
    "collapsed": false
   },
   "outputs": [
    {
     "data": {
      "text/plain": [
       "array([-15.31666667,  -4.05      , -23.31666667, -17.91666667,\n",
       "        28.81666667,  26.48333333,  20.88333333,  23.61666667])"
      ]
     },
     "execution_count": 81,
     "metadata": {},
     "output_type": "execute_result"
    }
   ],
   "source": [
    "Betas['betas'][4]"
   ]
  },
  {
   "cell_type": "code",
   "execution_count": 38,
   "metadata": {
    "collapsed": true
   },
   "outputs": [],
   "source": [
    "NMF2=scipy.io.loadmat('/mnt/downloads/TonotropyResults/SegmentFull-spikes_filt-NMF.mat')"
   ]
  },
  {
   "cell_type": "code",
   "execution_count": 48,
   "metadata": {
    "collapsed": false
   },
   "outputs": [],
   "source": [
    "Betas=scipy.io.loadmat('/mnt/downloads/TonotropyResults/SegmentFull-linreg.mat')"
   ]
  },
  {
   "cell_type": "code",
   "execution_count": 60,
   "metadata": {
    "collapsed": false
   },
   "outputs": [
    {
     "data": {
      "text/plain": [
       "(994, 621)"
      ]
     },
     "execution_count": 60,
     "metadata": {},
     "output_type": "execute_result"
    }
   ],
   "source": [
    "filename=filelist[0]\n",
    "Mask = PIL.Image.open('/mnt/downloads/'+directory+'/Mask_'+filename)\n",
    "Mask=np.asarray(Mask,dtype=np.uint16)\n",
    "Mask.shape"
   ]
  },
  {
   "cell_type": "code",
   "execution_count": 138,
   "metadata": {
    "collapsed": false
   },
   "outputs": [],
   "source": [
    "def Mask_xy():\n",
    "    d=dict(mydict[filename])\n",
    "    e=np.asarray(mydict[filename])\n",
    "    for x in xrange(0,Mask.shape[0]):\n",
    "        for y in xrange(0,Mask.shape[1]):\n",
    "            if Mask[x][y] in e[:,0]:\n",
    "                temp_idx=Mask[x][y]\n",
    "                for b in xrange(0,Mask_betas.shape[0]):\n",
    "                    Mask_betas[b,x,y]=Betas['betas'][d[temp_idx]][b]\n",
    "                for n in xrange(0,Mask_NMF.shape[0]):\n",
    "                    Mask_NMF[n,x,y]=NMF2['W-spikes'][temp_idx][n]\n",
    "    return(Mask_NMF,Mask_betas)\n",
    "\n",
    "def Mask_nump(filename):\n",
    "    Mask = PIL.Image.open('/mnt/downloads/'+directory+'/Mask_'+filename)\n",
    "    Mask=np.asarray(Mask,dtype=np.uint16)\n",
    "    Mask_betas=np.zeros((Betas['betas'].shape[1],Mask.shape[0],Mask.shape[1]),dtype=np.float).copy()\n",
    "    Mask_NMF=np.zeros((NMF2['W-spikes'].shape[1],Mask.shape[0],Mask.shape[1]),dtype=np.float).copy()\n",
    "    for x,y in mydict[filename]:\n",
    "        for i in xrange(0,Mask_NMF.shape[0]):\n",
    "            Mask_NMF[i,:,:][Mask==x]=NMF2['W-spikes'][x][i]\n",
    "            if i < Mask_betas.shape[0]:\n",
    "                Mask_betas[i,:,:][Mask==x]=Betas['betas'][y][i]\n",
    "    scipy.io.savemat('/mnt/downloads/'+savedirectory+'/'+filename+'-Mask representation.mat', mdict={'NMF':Mask_NMF,'betas':Mask_betas}, oned_as='column', do_compression='true')\n",
    "    return()"
   ]
  },
  {
   "cell_type": "code",
   "execution_count": 126,
   "metadata": {
    "collapsed": false
   },
   "outputs": [
    {
     "name": "stdout",
     "output_type": "stream",
     "text": [
      "1 loops, best of 3: 203 ms per loop\n"
     ]
    }
   ],
   "source": [
    "%timeit Mask_nump()"
   ]
  },
  {
   "cell_type": "code",
   "execution_count": 125,
   "metadata": {
    "collapsed": false
   },
   "outputs": [
    {
     "name": "stdout",
     "output_type": "stream",
     "text": [
      "1 loops, best of 3: 1.32 s per loop\n"
     ]
    }
   ],
   "source": [
    "%timeit Mask_xy()"
   ]
  },
  {
   "cell_type": "code",
   "execution_count": 77,
   "metadata": {
    "collapsed": false
   },
   "outputs": [
    {
     "data": {
      "text/plain": [
       "(0, 0)"
      ]
     },
     "execution_count": 77,
     "metadata": {},
     "output_type": "execute_result"
    }
   ],
   "source": [
    "for i,filename in enumerate(filelist):\n",
    "    Mask = PIL.Image.open('/mnt/downloads/'+directory+'/Mask_'+filename)\n",
    "    Mask=np.asarray(Mask,dtype=np.uint16)\n",
    "    Mask_betas=np.zeros(Betas['betas'].shape[1],Mask.shape[0],Mask.shape[1])\n",
    "    Mask_NMF=np.zeros(NMF2['W-spikes'].shape[1],Mask.shape[0],Mask.shape[1])\n",
    "    for x,y in mydict[filename]:\n",
    "    "
   ]
  },
  {
   "cell_type": "code",
   "execution_count": 100,
   "metadata": {
    "collapsed": false
   },
   "outputs": [],
   "source": [
    "Mask = PIL.Image.open('/mnt/downloads/'+directory+'/Mask_'+filename)\n",
    "Mask=np.asarray(Mask,dtype=np.uint16)\n",
    "Mask_betas=np.zeros((Betas['betas'].shape[1],Mask.shape[0],Mask.shape[1]),dtype=np.float).copy()\n",
    "Mask_NMF=np.zeros((NMF2['W-spikes'].shape[1],Mask.shape[0],Mask.shape[1]),dtype=np.float).copy()"
   ]
  },
  {
   "cell_type": "code",
   "execution_count": 53,
   "metadata": {
    "collapsed": false
   },
   "outputs": [],
   "source": [
    "os.chdir('/mnt/downloads/'+directory+'/')\n",
    "p=Popen(['ls'], shell=False, stdout=PIPE, close_fds=True).stdout.readlines()\n",
    "filelist=[]\n",
    "for filename in p:\n",
    "    if filename.startswith('GC'):\n",
    "        filelist.append(filename.rstrip('\\n'))"
   ]
  },
  {
   "cell_type": "code",
   "execution_count": 131,
   "metadata": {
    "collapsed": false
   },
   "outputs": [
    {
     "ename": "KeyboardInterrupt",
     "evalue": "",
     "output_type": "error",
     "traceback": [
      "\u001b[1;31m---------------------------------------------------------------------------\u001b[0m",
      "\u001b[1;31mKeyboardInterrupt\u001b[0m                         Traceback (most recent call last)",
      "\u001b[1;32m<ipython-input-131-756b93931a69>\u001b[0m in \u001b[0;36m<module>\u001b[1;34m()\u001b[0m\n\u001b[0;32m     11\u001b[0m     \u001b[0mMask_NMF\u001b[0m\u001b[1;33m=\u001b[0m\u001b[0mnp\u001b[0m\u001b[1;33m.\u001b[0m\u001b[0mzeros\u001b[0m\u001b[1;33m(\u001b[0m\u001b[1;33m(\u001b[0m\u001b[0mNMF2\u001b[0m\u001b[1;33m[\u001b[0m\u001b[1;34m'W-spikes'\u001b[0m\u001b[1;33m]\u001b[0m\u001b[1;33m.\u001b[0m\u001b[0mshape\u001b[0m\u001b[1;33m[\u001b[0m\u001b[1;36m1\u001b[0m\u001b[1;33m]\u001b[0m\u001b[1;33m,\u001b[0m\u001b[0mMask\u001b[0m\u001b[1;33m.\u001b[0m\u001b[0mshape\u001b[0m\u001b[1;33m[\u001b[0m\u001b[1;36m0\u001b[0m\u001b[1;33m]\u001b[0m\u001b[1;33m,\u001b[0m\u001b[0mMask\u001b[0m\u001b[1;33m.\u001b[0m\u001b[0mshape\u001b[0m\u001b[1;33m[\u001b[0m\u001b[1;36m1\u001b[0m\u001b[1;33m]\u001b[0m\u001b[1;33m)\u001b[0m\u001b[1;33m,\u001b[0m\u001b[0mdtype\u001b[0m\u001b[1;33m=\u001b[0m\u001b[0mnp\u001b[0m\u001b[1;33m.\u001b[0m\u001b[0mfloat\u001b[0m\u001b[1;33m)\u001b[0m\u001b[1;33m.\u001b[0m\u001b[0mcopy\u001b[0m\u001b[1;33m(\u001b[0m\u001b[1;33m)\u001b[0m\u001b[1;33m\u001b[0m\u001b[0m\n\u001b[0;32m     12\u001b[0m     \u001b[0mMask_nump\u001b[0m\u001b[1;33m(\u001b[0m\u001b[0mMask_NMF\u001b[0m\u001b[1;33m,\u001b[0m\u001b[0mMask_betas\u001b[0m\u001b[1;33m)\u001b[0m\u001b[1;33m\u001b[0m\u001b[0m\n\u001b[1;32m---> 13\u001b[1;33m     \u001b[0mscipy\u001b[0m\u001b[1;33m.\u001b[0m\u001b[0mio\u001b[0m\u001b[1;33m.\u001b[0m\u001b[0msavemat\u001b[0m\u001b[1;33m(\u001b[0m\u001b[1;34m'/mnt/downloads/'\u001b[0m\u001b[1;33m+\u001b[0m\u001b[0msavedirectory\u001b[0m\u001b[1;33m+\u001b[0m\u001b[1;34m'/'\u001b[0m\u001b[1;33m+\u001b[0m\u001b[0mfilename\u001b[0m\u001b[1;33m+\u001b[0m\u001b[1;34m'-Mask representation.mat'\u001b[0m\u001b[1;33m,\u001b[0m \u001b[0mmdict\u001b[0m\u001b[1;33m=\u001b[0m\u001b[1;33m{\u001b[0m\u001b[1;34m'NMF'\u001b[0m\u001b[1;33m:\u001b[0m\u001b[0mMask_NMF\u001b[0m\u001b[1;33m,\u001b[0m\u001b[1;34m'betas'\u001b[0m\u001b[1;33m:\u001b[0m\u001b[0mMask_betas\u001b[0m\u001b[1;33m}\u001b[0m\u001b[1;33m,\u001b[0m \u001b[0moned_as\u001b[0m\u001b[1;33m=\u001b[0m\u001b[1;34m'column'\u001b[0m\u001b[1;33m,\u001b[0m \u001b[0mdo_compression\u001b[0m\u001b[1;33m=\u001b[0m\u001b[1;34m'true'\u001b[0m\u001b[1;33m)\u001b[0m\u001b[1;33m\u001b[0m\u001b[0m\n\u001b[0m\u001b[0;32m     14\u001b[0m \u001b[1;33m\u001b[0m\u001b[0m\n",
      "\u001b[1;32m/home/ubuntu/anaconda/lib/python2.7/site-packages/scipy/io/matlab/mio.pyc\u001b[0m in \u001b[0;36msavemat\u001b[1;34m(file_name, mdict, appendmat, format, long_field_names, do_compression, oned_as)\u001b[0m\n\u001b[0;32m    208\u001b[0m     \u001b[1;32melse\u001b[0m\u001b[1;33m:\u001b[0m\u001b[1;33m\u001b[0m\u001b[0m\n\u001b[0;32m    209\u001b[0m         \u001b[1;32mraise\u001b[0m \u001b[0mValueError\u001b[0m\u001b[1;33m(\u001b[0m\u001b[1;34m\"Format should be '4' or '5'\"\u001b[0m\u001b[1;33m)\u001b[0m\u001b[1;33m\u001b[0m\u001b[0m\n\u001b[1;32m--> 210\u001b[1;33m     \u001b[0mMW\u001b[0m\u001b[1;33m.\u001b[0m\u001b[0mput_variables\u001b[0m\u001b[1;33m(\u001b[0m\u001b[0mmdict\u001b[0m\u001b[1;33m)\u001b[0m\u001b[1;33m\u001b[0m\u001b[0m\n\u001b[0m\u001b[0;32m    211\u001b[0m     \u001b[1;32mif\u001b[0m \u001b[0mfile_is_string\u001b[0m\u001b[1;33m:\u001b[0m\u001b[1;33m\u001b[0m\u001b[0m\n\u001b[0;32m    212\u001b[0m         \u001b[0mfile_stream\u001b[0m\u001b[1;33m.\u001b[0m\u001b[0mclose\u001b[0m\u001b[1;33m(\u001b[0m\u001b[1;33m)\u001b[0m\u001b[1;33m\u001b[0m\u001b[0m\n",
      "\u001b[1;32m/home/ubuntu/anaconda/lib/python2.7/site-packages/scipy/io/matlab/mio5.pyc\u001b[0m in \u001b[0;36mput_variables\u001b[1;34m(self, mdict, write_header)\u001b[0m\n\u001b[0;32m    837\u001b[0m                 \u001b[0mself\u001b[0m\u001b[1;33m.\u001b[0m\u001b[0m_matrix_writer\u001b[0m\u001b[1;33m.\u001b[0m\u001b[0mfile_stream\u001b[0m \u001b[1;33m=\u001b[0m \u001b[0mstream\u001b[0m\u001b[1;33m\u001b[0m\u001b[0m\n\u001b[0;32m    838\u001b[0m                 \u001b[0mself\u001b[0m\u001b[1;33m.\u001b[0m\u001b[0m_matrix_writer\u001b[0m\u001b[1;33m.\u001b[0m\u001b[0mwrite_top\u001b[0m\u001b[1;33m(\u001b[0m\u001b[0mvar\u001b[0m\u001b[1;33m,\u001b[0m \u001b[0masbytes\u001b[0m\u001b[1;33m(\u001b[0m\u001b[0mname\u001b[0m\u001b[1;33m)\u001b[0m\u001b[1;33m,\u001b[0m \u001b[0mis_global\u001b[0m\u001b[1;33m)\u001b[0m\u001b[1;33m\u001b[0m\u001b[0m\n\u001b[1;32m--> 839\u001b[1;33m                 \u001b[0mout_str\u001b[0m \u001b[1;33m=\u001b[0m \u001b[0mzlib\u001b[0m\u001b[1;33m.\u001b[0m\u001b[0mcompress\u001b[0m\u001b[1;33m(\u001b[0m\u001b[0mstream\u001b[0m\u001b[1;33m.\u001b[0m\u001b[0mgetvalue\u001b[0m\u001b[1;33m(\u001b[0m\u001b[1;33m)\u001b[0m\u001b[1;33m)\u001b[0m\u001b[1;33m\u001b[0m\u001b[0m\n\u001b[0m\u001b[0;32m    840\u001b[0m                 \u001b[0mtag\u001b[0m \u001b[1;33m=\u001b[0m \u001b[0mnp\u001b[0m\u001b[1;33m.\u001b[0m\u001b[0mempty\u001b[0m\u001b[1;33m(\u001b[0m\u001b[1;33m(\u001b[0m\u001b[1;33m)\u001b[0m\u001b[1;33m,\u001b[0m \u001b[0mNDT_TAG_FULL\u001b[0m\u001b[1;33m)\u001b[0m\u001b[1;33m\u001b[0m\u001b[0m\n\u001b[0;32m    841\u001b[0m                 \u001b[0mtag\u001b[0m\u001b[1;33m[\u001b[0m\u001b[1;34m'mdtype'\u001b[0m\u001b[1;33m]\u001b[0m \u001b[1;33m=\u001b[0m \u001b[0mmiCOMPRESSED\u001b[0m\u001b[1;33m\u001b[0m\u001b[0m\n",
      "\u001b[1;31mKeyboardInterrupt\u001b[0m: "
     ]
    }
   ],
   "source": [
    "os.chdir('/mnt/downloads/'+directory+'/')\n",
    "p=Popen(['ls'], shell=False, stdout=PIPE, close_fds=True).stdout.readlines()\n",
    "filelist=[]\n",
    "for filename in p:\n",
    "    if filename.startswith('GC'):\n",
    "        filelist.append(filename.rstrip('\\n'))\n",
    "for i,filename in enumerate(filelist):\n",
    "    Mask = PIL.Image.open('/mnt/downloads/'+directory+'/Mask_'+filename)\n",
    "    Mask=np.asarray(Mask,dtype=np.uint16)\n",
    "    Mask_betas=np.zeros((Betas['betas'].shape[1],Mask.shape[0],Mask.shape[1]),dtype=np.float).copy()\n",
    "    Mask_NMF=np.zeros((NMF2['W-spikes'].shape[1],Mask.shape[0],Mask.shape[1]),dtype=np.float).copy()\n",
    "    Mask_nump(Mask_NMF,Mask_betas)\n",
    "    scipy.io.savemat('/mnt/downloads/'+savedirectory+'/'+filename+'-Mask representation.mat', mdict={'NMF':Mask_NMF,'betas':Mask_betas}, oned_as='column', do_compression='true')\n",
    "    "
   ]
  },
  {
   "cell_type": "code",
   "execution_count": null,
   "metadata": {
    "collapsed": false
   },
   "outputs": [],
   "source": [
    "from joblib import Parallel, delayed  \n",
    "import multiprocessing\n",
    "num_cores = multiprocessing.cpu_count()\n",
    "results = Parallel(n_jobs=num_cores)(Mask_nump(filename) for filename in filelist) "
   ]
  },
  {
   "cell_type": "code",
   "execution_count": null,
   "metadata": {
    "collapsed": true
   },
   "outputs": [],
   "source": [
    "for filename in enumerate(filelist):\n",
    "    print filename"
   ]
  },
  {
   "cell_type": "code",
   "execution_count": null,
   "metadata": {
    "collapsed": true
   },
   "outputs": [],
   "source": []
  }
 ],
 "metadata": {
  "kernelspec": {
   "display_name": "Python 2",
   "language": "python",
   "name": "python2"
  },
  "language_info": {
   "codemirror_mode": {
    "name": "ipython",
    "version": 2
   },
   "file_extension": ".py",
   "mimetype": "text/x-python",
   "name": "python",
   "nbconvert_exporter": "python",
   "pygments_lexer": "ipython2",
   "version": "2.7.10"
  }
 },
 "nbformat": 4,
 "nbformat_minor": 0
}
